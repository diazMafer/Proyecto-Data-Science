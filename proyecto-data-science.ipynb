{
 "cells": [
  {
   "cell_type": "markdown",
   "metadata": {},
   "source": [
    "# Deteccion de edad ósea - Proyecto 2\n",
    "\n",
    "Alexander Trujillo - 17189\n",
    "\n",
    "Javier Carpio - 17077\n",
    "\n",
    "Francisco Molina - 17050\n",
    "\n",
    "Ana Lucia Hernandez - 17138\n",
    "\n",
    "Andrea Arguello - 17501\n",
    "\n",
    "Maria Fernanda Lopez - 17160"
   ]
  },
  {
   "cell_type": "markdown",
   "metadata": {},
   "source": []
  },
  {
   "cell_type": "markdown",
   "metadata": {},
   "source": [
    "## Situación problemática\n",
    "Por décadas, la determinación de la madurez ósea se ha basado en una evaluación visual del desarrollo esquelético de la mano y la muñeca (Gilsanz y Ratib, 2005). Por lo tanto, sería útil el determinar esta de manera automatizada. Para esto, se cuenta con un conjunto de datos de entrenamiento con 12.6k imágenes de radiografías de infantes, y se provee además su género y su edad, esta última siendo la variable dependiente, ya que el objetivo es, a partir de la radiografía (o la misma y el género), determinar de forma automatizada la edad ósea de los infantes.\n"
   ]
  },
  {
   "cell_type": "markdown",
   "metadata": {},
   "source": [
    "## Problema científico\n",
    "Conocer la edad ósea (EO) de un individuo es necesaria para confirmar el diagnóstico de variantes normales del crecimiento, así como para orientar el diagnóstico de condiciones patológicas, tales como diagnosticar y tratar una multitud de trastornos endocrinos y síndromes pediátricos, para decidir el inicio o el cese de ciertos tratamientos y para estimar la talla adulta, y para estimar la edad de niños con fecha de nacimiento desconocida. Sin embargo, durante décadas, la determinación de la madurez ósea se ha basado en una evaluación visual del desarrollo esquelético de la mano y la muñeca (Gilsanz y Ratib, 2005; Navarro, Tejedor y López Siguero, 2014). \n"
   ]
  },
  {
   "cell_type": "markdown",
   "metadata": {},
   "source": [
    "## Objetivos\n",
    "### General\n",
    "Aplicar los conceptos de reconocimiento de imágenes vistos en clase, tanto la limpieza y procesamiento de las mismas como la creación de redes neuronales convolucionales (CNN por sus siglas en inglés), y aplicarlos a situaciones de la vida real (en este caso, en el ámbito de la pediatría).\n",
    "\n",
    "### Específicos\n",
    "1. Predecir la edad ósea del paciente, con base en las imágenes provistas de radiografías de manos, con una precisión de $\\pm$4.2 meses.\n",
    "2. Evaluar si incluir el género como variable tiene correlación con la precisión de la edad calculada.\n"
   ]
  },
  {
   "cell_type": "markdown",
   "metadata": {},
   "source": [
    "## Descripción de los datos\n",
    "Los datos a trabajar son los de *RSNA Bone Age* los cuales contienen imagenes de rayos x digitalizadas y escaneadas de la mano de una persona, también se cuenta con un csv en el cual se indica la edad real y genero de dicha imagen, esta edad es la que se predecira con el modelo a elobarar.\n",
    "\n",
    "Se cuenta con datos de test y de training, cada uno con su respectiva cantidad de imágenes y su propio csv. Como se menciono anteriormente dichos csv contienen dos datos importantes la edad y el genero. Al observar los csv de train y de test podemos observar que la columna en donde se indica el genero no es llamada igual y no se utilizan los mismos datos para describir el sexo. \n",
    "En el caso del csv de train podemos observar que la columna para describir el sexo de la persona se llama 'Male' y sus datos son tipo booleano teniendo un 'True' para cuando es hombre y un 'False' para cuando se es mujer. A diferencia de test que podemos observar que esta columna sí se llama 'Sex' y cuenta con dos valores tipo string 'M' para indicar  hombre ('Male' en ingles) y 'F' para indicar mujer ('Female' en ingles). "
   ]
  },
  {
   "cell_type": "code",
   "execution_count": 2,
   "metadata": {
    "_cell_guid": "79c7e3d0-c299-4dcb-8224-4455121ee9b0",
    "_uuid": "d629ff2d2480ee46fbb7e2d37f6b5fab8052498a"
   },
   "outputs": [],
   "source": [
    "import numpy as np # linear algebra\n",
    "import pandas as pd # data processing, CSV file I/O (e.g. pd.read_csv)\n",
    "import matplotlib.pyplot as plt\n",
    "import matplotlib.image as mpimg\n",
    "import os\n",
    "from PIL import Image"
   ]
  },
  {
   "cell_type": "code",
   "execution_count": null,
   "metadata": {},
   "outputs": [],
   "source": [
    "train = pd.read_csv('/kaggle/input/rsna-bone-age/boneage-training-dataset.csv')\n",
    "print(train.head())"
   ]
  },
  {
   "cell_type": "markdown",
   "metadata": {},
   "source": [
    "### Limpieza de datos \n",
    "\n",
    "Se cambia variable male para que este este en los términos del test dataset y mantener coherencia entre ambos datasets."
   ]
  },
  {
   "cell_type": "code",
   "execution_count": null,
   "metadata": {},
   "outputs": [],
   "source": [
    "#Limpieza \n",
    "train = train.assign(sex = lambda train: train['male'].map(lambda male: \"M\" if male == True else \"F\") )\n",
    "train = train.drop(['male'], axis=1)"
   ]
  },
  {
   "cell_type": "code",
   "execution_count": null,
   "metadata": {},
   "outputs": [],
   "source": [
    "y = train['sex'].value_counts()\n",
    "fig = plt.figure()\n",
    "ax = fig.add_axes([0,0,1,1])\n",
    "langs = ['Masculino',\"Femenino\"]\n",
    "ax.bar(langs,y)\n",
    "plt.title('Cantidad de hombres y mujeres')\n",
    "plt.ylabel('Cantidad')\n",
    "plt.xlabel('Género')\n",
    "\n",
    "plt.show()"
   ]
  },
  {
   "cell_type": "code",
   "execution_count": null,
   "metadata": {},
   "outputs": [],
   "source": [
    "\n",
    "labels = ['M','F']\n",
    "explode = (0.2, 0, 0, 0, 0, 0)\n",
    "plt.pie(train['sex'].value_counts(), labels=labels,\n",
    "autopct='%1.1f%%', shadow=True)\n",
    "plt.title('Population Density Index')\n",
    "\n",
    "plt.title('Population Density Index')\n",
    "plt.show()"
   ]
  },
  {
   "cell_type": "markdown",
   "metadata": {},
   "source": [
    "Se observa que los datos están casi equitativamente distribuidos entre hombres y mujeres. Es por ello que no se considera necesario aplicar balanceo de clases de los datos proporcionados por el dataset."
   ]
  },
  {
   "cell_type": "code",
   "execution_count": null,
   "metadata": {},
   "outputs": [],
   "source": [
    "train.hist('boneage', bins = 10)"
   ]
  },
  {
   "cell_type": "markdown",
   "metadata": {},
   "source": [
    "Se observa que los datos están principalmente concentrados entre 125  y 175 meses, el histograma presenta sesgo a la izquierda."
   ]
  },
  {
   "cell_type": "code",
   "execution_count": null,
   "metadata": {},
   "outputs": [],
   "source": [
    "train['boneage'].describe()"
   ]
  },
  {
   "cell_type": "code",
   "execution_count": null,
   "metadata": {},
   "outputs": [],
   "source": [
    "train.boxplot('boneage')"
   ]
  },
  {
   "cell_type": "code",
   "execution_count": null,
   "metadata": {},
   "outputs": [],
   "source": [
    "train.boxplot('boneage', by='sex')"
   ]
  },
  {
   "cell_type": "code",
   "execution_count": null,
   "metadata": {},
   "outputs": [],
   "source": [
    "for img_id, boneage, sex in train[['id','boneage', 'sex']].sample(5).values:\n",
    "    img_name = str(img_id) + '.png'\n",
    "    img = mpimg.imread(\"../input/rsna-bone-age/boneage-training-dataset/boneage-training-dataset/\"+img_name)\n",
    "    plt.imshow(img)\n",
    "    plt.title('Image: {} Boneage: {} Sex: {}'.format(img_name, boneage, sex))\n",
    "    plt.show()"
   ]
  },
  {
   "cell_type": "markdown",
   "metadata": {},
   "source": [
    "Podemos observar en las imágenes que todas las radiografías son de la mano izquierda, esto puede ser al método con el cual se calculó la edad osea. De igual manera se puede ver que la calidad de las radiografías no es igual para todas como se observa en la cuarta imagen que los huesos no se aprecian de igual forma a comparación de las demás en donde estos se ven de un color verde fosforescente.\n",
    "\n",
    "Al haber imágenes con esta calidad podemos asumir que para la predicción se tendrá que hacer una transformación en la imagen en donde se resalten estos huesos en alguna escala de grises o bien con alguna textura."
   ]
  },
  {
   "cell_type": "code",
   "execution_count": null,
   "metadata": {},
   "outputs": [],
   "source": [
    "for img_id, boneage, sex in train[['id','boneage', 'sex']].sample(5).values:\n",
    "    img_name = str(img_id) + '.png'\n",
    "    im = Image.open(\"../input/rsna-bone-age/boneage-training-dataset/boneage-training-dataset/\"+img_name)\n",
    "    width, height = im.size\n",
    "    print(width,height) "
   ]
  },
  {
   "cell_type": "markdown",
   "metadata": {},
   "source": [
    "Se puede observar además que las imágenes vienen en distintos tamaños, y el tamaño de las mismas es bastante grande."
   ]
  },
  {
   "cell_type": "markdown",
   "metadata": {},
   "source": [
    "## Hallazgos y conclusiones \n",
    "\n",
    "Debido a que el train set contiene la variable de género como un booleano indicando si es hombre o mujer, fue necesario modificar dicha columna, pues en el test set se encontraba como un string indicando 'M' y 'F' para los mismos.\n",
    "\n",
    "El dataset contiene una mayor cantidad de observaciones de hombres, sin embargo, la proporción de los mismos es de aproximadamente 54% hombres y 46% mujeres. Debido a que la diferencia no es significativa, no se considera necesario el hacer un aumento de las entradas para emparejar los datos. \n",
    "\n",
    "Se puede observar que la edad está dada en meses, con un sesgo a la izquierda, indicando que la mayoría de los datos, al igual que lo que refleja el diagrama de caja y bigote, se encuentran por debajo de los 132 meses (es decir, 11 años). Además, los hombres presentan edades más altas en el dataset, con una mediana de 150, mientras que la mediana de las mujeres se encuentra por debajo de la del dataset completo, aproximadamente por 124-125 meses. Se puede notar, en el diagrama de caja y bigote de todo el dataset, que hay datos atípicos en las edades más bajas, por lo cual el modelo podría tener problemas a la hora de predecir la edad ósea dentro del rango deseado.\n",
    "\n",
    "Ya que todas las imágenes son de la mano izquierda, no es necesario eliminar fotografías en el dataset, ya que de haber alguna que fuese de la mano derecha, esto podría afectar a la hora de realizar el modelo. \n",
    "\n",
    "## Conclusiones sobre los siguientes pasos a seguir\n",
    "\n",
    "Algunas imágenes se encuentran muy \"oscuras\", refiriéndose a que los huesos no se distinguen claramente. Será necesario recuperar la información, ya sea cambiando los colores a blanco y negro u obteniendo las derivadas de las mismas para trabajarlas con las texturas.\n",
    "\n",
    "Será necesario realizar transformaciones sobre las fotos además, debido a las altas dimensiones de las mismas y a que no hay un \"estándar\" en el conjunto de datos, ya que hay distintos tamaños y dimensiones.\n",
    "\n",
    "Se planea trabajar con una red neuronal convolucional, debido a que se está trabajando con imágenes."
   ]
  },
  {
   "cell_type": "markdown",
   "metadata": {},
   "source": [
    "## Algoritmos de aprendizaje útiles para abordar el problema\n",
    "### Artificial Neural Network\n",
    "Con una red de este tipo se pueden realizar análisis multifactoriales. Consiste en una estructura multicapa que contiene nodos conectados por bordes ponderados que establecen una capa de entrada, una o más capas ocultas y una capa de salida. Con valores de entrada y salida conocidos, la red se entrena ajustando los pesos de forma incremental hasta que la salida de la red se aproxima a la salida conocida. Esta red predice de forma eficiente, por lo general es aplicada a la interpretación de imágenes, pero al contrario que en el caso de regresión, se trata de una técnica en donde los resultados no pueden interpretarse de forma intuitiva (Dallora, Anderberg, Kvist, Mendes, Diaz Ruiz, y Berglund, 2019).\n",
    "\n",
    "### Convolutional Neural Network\n",
    "Un modelo de clasificación de imágenes de CNN toma una imagen de entrada, la pasa a través de una serie de capas convolucionales, no lineales, agrupadas y completamente conectadas, y finalmente nos da una salida. Una imagen de entrada es básicamente una matriz de píxeles en forma de matriz: h x w x d (h = altura, w = ancho, d = dimensión). Cada imagen de entrada pasará a través de una serie de capas de convolución con filtros. Y en la práctica, una CNN aprende los valores de estos filtros por sí misma durante el proceso de formación. Este filtro se llama \"kernel\" y también es una matriz de números. Imaginemos que este kernel se desliza por todas las áreas de la imagen de entrada con un ancho de paso predefinido. Este ancho de paso o la distancia que se mueve un kernel cada vez que pasa sobre una imagen se define como un \"paso\" (Husseini, Spronk, Masanneck, y Gutewort, 2019).\n",
    "\n",
    "### Bayesian Network\n",
    "La red bayesiana estima la probabilidad posterior de que un punto de datos sea de una determinada clase, dado un conjunto de características. El proceso de aprendizaje ocurre en dos fases: primero aprende la estructura de la red, que es un gráfico acíclico directo compuesto por nodos (que representan las características) y aristas (que representan las dependencias probabilísticas), luego aprende la distribución de probabilidad condicional de cada nodo. Las ventajas de las redes bayesianas son que pueden codificar el conocimiento de los expertos en el dominio en la estructura del gráfico y pueden trabajar con cantidades más pequeñas de datos. Una gran desventaja es que las redes bayesianas pueden volverse poco prácticas en problemas con un gran número de variables (Dallora, Anderberg, Kvist, Mendes, Diaz Ruiz, y Berglund, 2019).\n",
    "\n",
    "## Algoritmo a utilizar\n",
    "Se utilizarán modelos de una red convolucional, el motivo de haber elegido una red convolucional es debido a su manejo de los pixeles y cuadros de la imagen que puede tener debido a la arquitectura que esta tiene que fue explicada anteriormente, y ya que, según el laboratorio realizado en clase, es mejor que una ANN para los problemas de análisis de imágenes.\n"
   ]
  },
  {
   "cell_type": "markdown",
   "metadata": {},
   "source": [
    "## Lectura y preparación de imagenes\n",
    "\n",
    "Método obtenido de https://www.kaggle.com/dansbecker/tensorflow-programming"
   ]
  },
  {
   "cell_type": "code",
   "execution_count": 2,
   "metadata": {
    "scrolled": true
   },
   "outputs": [
    {
     "name": "stdout",
     "output_type": "stream",
     "text": [
      "Collecting tensorflow\n",
      "  Using cached tensorflow-2.3.1-cp38-cp38-macosx_10_14_x86_64.whl (165.2 MB)\n",
      "Requirement already satisfied: wheel>=0.26 in /Library/Frameworks/Python.framework/Versions/3.8/lib/python3.8/site-packages (from tensorflow) (0.35.1)\n",
      "Collecting protobuf>=3.9.2\n",
      "  Using cached protobuf-3.13.0-cp38-cp38-macosx_10_9_x86_64.whl (1.3 MB)\n",
      "Collecting tensorflow-estimator<2.4.0,>=2.3.0\n",
      "  Using cached tensorflow_estimator-2.3.0-py2.py3-none-any.whl (459 kB)\n",
      "Collecting astunparse==1.6.3\n",
      "  Using cached astunparse-1.6.3-py2.py3-none-any.whl (12 kB)\n",
      "Collecting opt-einsum>=2.3.2\n",
      "  Using cached opt_einsum-3.3.0-py3-none-any.whl (65 kB)\n",
      "Requirement already satisfied: six>=1.12.0 in /Library/Frameworks/Python.framework/Versions/3.8/lib/python3.8/site-packages (from tensorflow) (1.15.0)\n",
      "Collecting absl-py>=0.7.0\n",
      "  Using cached absl_py-0.10.0-py3-none-any.whl (127 kB)\n",
      "Collecting tensorboard<3,>=2.3.0\n",
      "  Using cached tensorboard-2.3.0-py3-none-any.whl (6.8 MB)\n",
      "Collecting numpy<1.19.0,>=1.16.0\n",
      "  Using cached numpy-1.18.5-cp38-cp38-macosx_10_9_x86_64.whl (15.1 MB)\n",
      "Processing /Users/polaris/Library/Caches/pip/wheels/a0/16/9c/5473df82468f958445479c59e784896fa24f4a5fc024b0f501/termcolor-1.1.0-py3-none-any.whl\n",
      "Collecting google-pasta>=0.1.8\n",
      "  Using cached google_pasta-0.2.0-py3-none-any.whl (57 kB)\n",
      "Collecting grpcio>=1.8.6\n",
      "  Using cached grpcio-1.32.0-cp38-cp38-macosx_10_9_x86_64.whl (3.3 MB)\n",
      "Collecting gast==0.3.3\n",
      "  Using cached gast-0.3.3-py2.py3-none-any.whl (9.7 kB)\n",
      "Processing /Users/polaris/Library/Caches/pip/wheels/5f/fd/9e/b6cf5890494cb8ef0b5eaff72e5d55a70fb56316007d6dfe73/wrapt-1.12.1-cp38-cp38-macosx_10_9_x86_64.whl\n",
      "Requirement already satisfied: h5py<2.11.0,>=2.10.0 in /Library/Frameworks/Python.framework/Versions/3.8/lib/python3.8/site-packages (from tensorflow) (2.10.0)\n",
      "Collecting keras-preprocessing<1.2,>=1.1.1\n",
      "  Using cached Keras_Preprocessing-1.1.2-py2.py3-none-any.whl (42 kB)\n",
      "Requirement already satisfied: setuptools in /Library/Frameworks/Python.framework/Versions/3.8/lib/python3.8/site-packages (from protobuf>=3.9.2->tensorflow) (47.1.0)\n",
      "Collecting markdown>=2.6.8\n",
      "  Using cached Markdown-3.2.2-py3-none-any.whl (88 kB)\n",
      "Collecting werkzeug>=0.11.15\n",
      "  Using cached Werkzeug-1.0.1-py2.py3-none-any.whl (298 kB)\n",
      "Collecting google-auth-oauthlib<0.5,>=0.4.1\n",
      "  Using cached google_auth_oauthlib-0.4.1-py2.py3-none-any.whl (18 kB)\n",
      "Requirement already satisfied: requests<3,>=2.21.0 in /Library/Frameworks/Python.framework/Versions/3.8/lib/python3.8/site-packages (from tensorboard<3,>=2.3.0->tensorflow) (2.24.0)\n",
      "Collecting google-auth<2,>=1.6.3\n",
      "  Using cached google_auth-1.22.0-py2.py3-none-any.whl (114 kB)\n",
      "Collecting tensorboard-plugin-wit>=1.6.0\n",
      "  Using cached tensorboard_plugin_wit-1.7.0-py3-none-any.whl (779 kB)\n",
      "Collecting requests-oauthlib>=0.7.0\n",
      "  Using cached requests_oauthlib-1.3.0-py2.py3-none-any.whl (23 kB)\n",
      "Requirement already satisfied: certifi>=2017.4.17 in /Library/Frameworks/Python.framework/Versions/3.8/lib/python3.8/site-packages (from requests<3,>=2.21.0->tensorboard<3,>=2.3.0->tensorflow) (2020.6.20)\n",
      "Requirement already satisfied: chardet<4,>=3.0.2 in /Library/Frameworks/Python.framework/Versions/3.8/lib/python3.8/site-packages (from requests<3,>=2.21.0->tensorboard<3,>=2.3.0->tensorflow) (3.0.4)\n",
      "Requirement already satisfied: idna<3,>=2.5 in /Library/Frameworks/Python.framework/Versions/3.8/lib/python3.8/site-packages (from requests<3,>=2.21.0->tensorboard<3,>=2.3.0->tensorflow) (2.10)\n",
      "Requirement already satisfied: urllib3!=1.25.0,!=1.25.1,<1.26,>=1.21.1 in /Library/Frameworks/Python.framework/Versions/3.8/lib/python3.8/site-packages (from requests<3,>=2.21.0->tensorboard<3,>=2.3.0->tensorflow) (1.25.10)\n",
      "Collecting aiohttp<4.0.0dev,>=3.6.2; python_version >= \"3.6\"\n",
      "  Using cached aiohttp-3.6.2-py3-none-any.whl (441 kB)\n",
      "Collecting rsa<5,>=3.1.4; python_version >= \"3.5\"\n",
      "  Using cached rsa-4.6-py3-none-any.whl (47 kB)\n",
      "Collecting cachetools<5.0,>=2.0.0\n",
      "  Using cached cachetools-4.1.1-py3-none-any.whl (10 kB)\n",
      "Collecting pyasn1-modules>=0.2.1\n",
      "  Using cached pyasn1_modules-0.2.8-py2.py3-none-any.whl (155 kB)\n",
      "Collecting oauthlib>=3.0.0\n",
      "  Using cached oauthlib-3.1.0-py2.py3-none-any.whl (147 kB)\n",
      "Collecting multidict<5.0,>=4.5\n",
      "  Using cached multidict-4.7.6-cp38-cp38-macosx_10_14_x86_64.whl (48 kB)\n",
      "Collecting async-timeout<4.0,>=3.0\n",
      "  Using cached async_timeout-3.0.1-py3-none-any.whl (8.2 kB)\n",
      "Requirement already satisfied: attrs>=17.3.0 in /Library/Frameworks/Python.framework/Versions/3.8/lib/python3.8/site-packages (from aiohttp<4.0.0dev,>=3.6.2; python_version >= \"3.6\"->google-auth<2,>=1.6.3->tensorboard<3,>=2.3.0->tensorflow) (19.3.0)\n",
      "Collecting yarl<2.0,>=1.0\n",
      "  Using cached yarl-1.6.0-cp38-cp38-macosx_10_14_x86_64.whl (128 kB)\n",
      "Collecting pyasn1>=0.1.3\n",
      "  Using cached pyasn1-0.4.8-py2.py3-none-any.whl (77 kB)\n",
      "Installing collected packages: protobuf, tensorflow-estimator, astunparse, numpy, opt-einsum, absl-py, grpcio, markdown, werkzeug, oauthlib, requests-oauthlib, multidict, async-timeout, yarl, aiohttp, pyasn1, rsa, cachetools, pyasn1-modules, google-auth, google-auth-oauthlib, tensorboard-plugin-wit, tensorboard, termcolor, google-pasta, gast, wrapt, keras-preprocessing, tensorflow\n",
      "  Attempting uninstall: numpy\n",
      "    Found existing installation: numpy 1.19.1\n",
      "    Uninstalling numpy-1.19.1:\n",
      "      Successfully uninstalled numpy-1.19.1\n",
      "Successfully installed absl-py-0.10.0 aiohttp-3.6.2 astunparse-1.6.3 async-timeout-3.0.1 cachetools-4.1.1 gast-0.3.3 google-auth-1.22.0 google-auth-oauthlib-0.4.1 google-pasta-0.2.0 grpcio-1.32.0 keras-preprocessing-1.1.2 markdown-3.2.2 multidict-4.7.6 numpy-1.18.5 oauthlib-3.1.0 opt-einsum-3.3.0 protobuf-3.13.0 pyasn1-0.4.8 pyasn1-modules-0.2.8 requests-oauthlib-1.3.0 rsa-4.6 tensorboard-2.3.0 tensorboard-plugin-wit-1.7.0 tensorflow-2.3.1 tensorflow-estimator-2.3.0 termcolor-1.1.0 werkzeug-1.0.1 wrapt-1.12.1 yarl-1.6.0\n",
      "\u001b[33mWARNING: You are using pip version 20.2.2; however, version 20.2.3 is available.\n",
      "You should consider upgrading via the '/Library/Frameworks/Python.framework/Versions/3.8/bin/python3 -m pip install --upgrade pip' command.\u001b[0m\n",
      "Note: you may need to restart the kernel to use updated packages.\n"
     ]
    }
   ],
   "source": [
    "%pip install tensorflow"
   ]
  },
  {
   "cell_type": "code",
   "execution_count": 5,
   "metadata": {},
   "outputs": [],
   "source": [
    "from IPython.display import Image, display\n",
    "# from learntools.deep_learning.decode_predictions import decode_predictions\n",
    "import numpy as np\n",
    "from tensorflow.keras.applications.resnet50 import preprocess_input\n",
    "from tensorflow.keras.applications import ResNet50\n",
    "from tensorflow.keras.preprocessing.image import load_img, img_to_array\n",
    "from tensorflow.keras.applications.resnet50 import preprocess_input\n",
    "from tensorflow.keras.preprocessing.image import load_img, img_to_array\n",
    "from os.path import join\n",
    "from os import listdir\n",
    "import pandas as pd\n",
    "from keras.utils import to_categorical\n",
    "from keras.models import Sequential\n",
    "from keras.layers import Dense, Dropout, Flatten\n",
    "from keras.layers import Conv2D, MaxPooling2D"
   ]
  },
  {
   "cell_type": "code",
   "execution_count": null,
   "metadata": {},
   "outputs": [],
   "source": [
    "def read_and_prep_images(img_paths, img_height, img_width, color_mode=\"grayscale\"):\n",
    "    imgs = [load_img(img_path, target_size=(img_height, img_width, 1), color_mode=color_mode) for img_path in img_paths]\n",
    "    img_array = np.array([img_to_array(img) for img in imgs])\n",
    "    return(img_array)"
   ]
  },
  {
   "cell_type": "code",
   "execution_count": null,
   "metadata": {},
   "outputs": [],
   "source": [
    "# obtener todos los paths de los archivos \n",
    "\n",
    "base_path = '../input/rsna-bone-age/'\n",
    "\n",
    "train_imgs = [ [int(file.split(\".\")[0]), join(base_path + (\"boneage-training-dataset/\"*2), file)] for file in listdir(base_path + (\"boneage-training-dataset/\"*2)) ]\n",
    "# test_imgs = [ [int(file.split(\".\")[0]), join(base_path + (\"boneage-test-dataset/\"*2), file)] for file in listdir(base_path + (\"boneage-test-dataset/\"*2)) ]\n",
    "\n",
    "# obtener train y test dfs\n",
    "train_imgs_df = pd.DataFrame(train_imgs, columns = [\"id\", \"path\"])\n",
    "# test_imgs_df = pd.DataFrame(test_imgs, columns = [\"id\", \"path\"])\n",
    "\n",
    "train_csv = pd.read_csv('../input/rsna-bone-age/boneage-training-dataset.csv')\n",
    "# train_csv = train_csv.assign(sex = lambda train: train['male'].map(lambda male: \"M\" if male == True else \"F\") )\n",
    "# train_csv = train_csv.drop(['male'], axis=1) # No la droppeamos ya que más adelante queremos ver si nos ayuda tener el género\n",
    "\n",
    "# test_csv = pd.read_csv('../input/rsna-bone-age/boneage-test-dataset.csv').rename(columns={\"Case ID\": \"id\", \"Sex\":\"sex\"})\n",
    "\n",
    "data = train_imgs_df.merge(train_csv, on=\"id\", how=\"inner\")\n",
    "# test = test_imgs_df.merge(test_csv, on=\"id\", how=\"inner\")"
   ]
  },
  {
   "cell_type": "markdown",
   "metadata": {},
   "source": [
    "Ahora se hará el split de la data, en 65% para training y 35% de testing."
   ]
  },
  {
   "cell_type": "code",
   "execution_count": null,
   "metadata": {},
   "outputs": [],
   "source": [
    "train, test = np.split(data.sample(frac=1), [int(.65*len(data))])"
   ]
  },
  {
   "cell_type": "markdown",
   "metadata": {},
   "source": [
    "Seguidamente, se realizará el procesamiento de imágenes tanto para el segmento de training como para testing"
   ]
  },
  {
   "cell_type": "code",
   "execution_count": null,
   "metadata": {},
   "outputs": [],
   "source": [
    "img_size = 300\n",
    "#X_train = read_and_prep_images(train[\"path\"].values, img_height = img_size, img_width = img_size)\n",
    "y_train = train['boneage'].values"
   ]
  },
  {
   "cell_type": "code",
   "execution_count": null,
   "metadata": {},
   "outputs": [],
   "source": [
    "#X_test = read_and_prep_images(test[\"path\"].values, img_height = img_size, img_width = img_size)\n",
    "y_test = test['boneage'].values"
   ]
  },
  {
   "cell_type": "code",
   "execution_count": null,
   "metadata": {},
   "outputs": [],
   "source": [
    "# save de las matrices de train y test, solo de la matriz X ya que eso es lo que mas se tarda\n",
    "#with open('X_train_2.npy', 'wb') as f:\n",
    "#    np.save(f, X_train)\n",
    "#with open('X_test_2.npy', 'wb') as f:\n",
    "#    np.save(f, X_test)"
   ]
  },
  {
   "cell_type": "code",
   "execution_count": 6,
   "metadata": {},
   "outputs": [],
   "source": [
    "# load de las matrices\n",
    "# X_train = np.load(r'./X_train.npy')\n",
    "# X_test = np.load(r'./X_test.npy')\n",
    "with open('X_train.npy', 'rb') as f: #idk about this porque no sé si el X_train se guarda como var global\n",
    "   X_train = np.load(f)\n",
    "with open('X_test.npy', 'rb') as f:\n",
    "   X_test = np.load(f)"
   ]
  },
  {
   "cell_type": "code",
   "execution_count": 7,
   "metadata": {
    "scrolled": true
   },
   "outputs": [],
   "source": [
    "Y_train = np.load(r'./y_train.npy')\n",
    "Y_test = np.load(r'./y_test.npy')"
   ]
  },
  {
   "cell_type": "code",
   "execution_count": 8,
   "metadata": {},
   "outputs": [],
   "source": [
    "train_x = X_train[:1000]\n",
    "train_y = Y_train[:1000]\n",
    "test_x = X_test[:500]\n",
    "test_y = Y_test[:500]"
   ]
  },
  {
   "cell_type": "code",
   "execution_count": 8,
   "metadata": {},
   "outputs": [],
   "source": [
    "img_size = 300"
   ]
  },
  {
   "cell_type": "code",
   "execution_count": 11,
   "metadata": {},
   "outputs": [
    {
     "data": {
      "image/png": "[encoded data removed]",
      "text/plain": [
       "<Figure size 432x288 with 5 Axes>"
      ]
     },
     "metadata": {},
     "output_type": "display_data"
    }
   ],
   "source": [
    "import matplotlib.pyplot as plt\n",
    "for i in range(5):\n",
    "    plt.subplot(5,5,i+1)\n",
    "    plt.xticks([])\n",
    "    plt.yticks([])\n",
    "    plt.grid(False)\n",
    "    plt.imshow(train_x[i], cmap=plt.cm.binary)\n",
    "    # The CIFAR labels happen to be arrays, \n",
    "    # which is why you need the extra index\n",
    "    plt.xlabel(train_y[i])\n",
    "plt.show()"
   ]
  },
  {
   "cell_type": "markdown",
   "metadata": {},
   "source": [
    "## Convolutional Neural Network\n",
    "A diferencia del laboratorio realizado, este no es un problema de clasificación, sino de regresión, ya que queremos predecir la edad ósea en meses, una variable cuantitativa y no categórica."
   ]
  },
  {
   "cell_type": "code",
   "execution_count": 12,
   "metadata": {},
   "outputs": [],
   "source": [
    "model = Sequential()\n",
    "\n",
    "model.add(Conv2D(16, kernel_size=(3, 3), activation='relu',input_shape=(img_size, img_size,1)))\n",
    "model.add(Conv2D(32, (5, 5), activation='relu'))\n",
    "model.add(Conv2D(64, (3, 3), activation='relu'))\n",
    "model.add(Flatten())\n",
    "model.add(Dense(1, activation='relu'))"
   ]
  },
  {
   "cell_type": "code",
   "execution_count": 15,
   "metadata": {},
   "outputs": [],
   "source": [
    "model.compile(loss='mean_squared_error',optimizer='adam',metrics=['mse'])"
   ]
  },
  {
   "cell_type": "code",
   "execution_count": 16,
   "metadata": {},
   "outputs": [
    {
     "name": "stdout",
     "output_type": "stream",
     "text": [
      "Epoch 1/10\n",
      "32/32 [==============================] - 140s 4s/step - loss: 17367.4844 - mse: 17367.4844 - val_loss: 18284.7207 - val_mse: 18284.7207\n",
      "Epoch 2/10\n",
      "32/32 [==============================] - 134s 4s/step - loss: 17367.4844 - mse: 17367.4844 - val_loss: 18284.7207 - val_mse: 18284.7207\n",
      "Epoch 3/10\n",
      "32/32 [==============================] - 135s 4s/step - loss: 17367.4844 - mse: 17367.4844 - val_loss: 18284.7207 - val_mse: 18284.7207\n",
      "Epoch 4/10\n",
      "32/32 [==============================] - 143s 4s/step - loss: 17367.4844 - mse: 17367.4844 - val_loss: 18284.7207 - val_mse: 18284.7207\n",
      "Epoch 5/10\n",
      "32/32 [==============================] - 139s 4s/step - loss: 17367.4844 - mse: 17367.4844 - val_loss: 18284.7207 - val_mse: 18284.7207\n",
      "Epoch 6/10\n",
      "32/32 [==============================] - 144s 4s/step - loss: 17367.4844 - mse: 17367.4844 - val_loss: 18284.7207 - val_mse: 18284.7207\n",
      "Epoch 7/10\n",
      "32/32 [==============================] - 140s 4s/step - loss: 17367.4844 - mse: 17367.4844 - val_loss: 18284.7207 - val_mse: 18284.7207\n",
      "Epoch 8/10\n",
      "32/32 [==============================] - 140s 4s/step - loss: 17367.4844 - mse: 17367.4844 - val_loss: 18284.7207 - val_mse: 18284.7207\n",
      "Epoch 9/10\n",
      "32/32 [==============================] - 140s 4s/step - loss: 17367.4844 - mse: 17367.4844 - val_loss: 18284.7207 - val_mse: 18284.7207\n",
      "Epoch 10/10\n",
      "32/32 [==============================] - 140s 4s/step - loss: 17367.4844 - mse: 17367.4844 - val_loss: 18284.7207 - val_mse: 18284.7207\n"
     ]
    },
    {
     "data": {
      "text/plain": [
       "<tensorflow.python.keras.callbacks.History at 0x11caedba8>"
      ]
     },
     "execution_count": 16,
     "metadata": {},
     "output_type": "execute_result"
    }
   ],
   "source": [
    "model.fit(train_x, train_y, epochs=10, validation_data=(test_x, test_y))"
   ]
  },
  {
   "cell_type": "code",
   "execution_count": 20,
   "metadata": {},
   "outputs": [
    {
     "name": "stdout",
     "output_type": "stream",
     "text": [
      "16/16 [==============================] - 14s 863ms/step - loss: 18284.7207 - mse: 18284.7207\n",
      "\n",
      "MSE: 18284.72\n"
     ]
    }
   ],
   "source": [
    "results = model.evaluate(test_x, test_y)\n",
    "print(\"\\nMSE: %.2f\" % (results[1]))"
   ]
  },
  {
   "cell_type": "code",
   "execution_count": 27,
   "metadata": {},
   "outputs": [],
   "source": [
    "model.save('modelosimple.h5')"
   ]
  },
  {
   "cell_type": "code",
   "execution_count": null,
   "metadata": {},
   "outputs": [],
   "source": [
    "model_og = Sequential()\n",
    "\n",
    "model_og.add(Conv2D(16, kernel_size=(5, 5), activation='relu',input_shape=(img_size, img_size,1)))\n",
    "model_og.add(Dropout(rate = 0.25))\n",
    "\n",
    "model_og.add(Conv2D(32, (5, 5), activation='relu'))\n",
    "model_og.add(Dropout(rate = 0.25))\n",
    "model_og.add(Conv2D(64, (3, 3), activation='relu'))\n",
    "model_og.add(Conv2D(128, (3, 3), activation='relu'))\n",
    "model_og.add(Dropout(rate = 0.25))\n",
    "model_og.add(Flatten())\n",
    "model_og.add(Dense(256, activation='relu'))\n",
    "model_og.add(Flatten())\n",
    "model_og.add(Dense(1, activation='softmax'))"
   ]
  },
  {
   "cell_type": "code",
   "execution_count": 1,
   "metadata": {},
   "outputs": [],
   "source": [
    "from keras.models import load_model\n",
    "model = load_model('modelosimple.h5')\n",
    "model_og = load_model('modelo_cnn.h5')"
   ]
  },
  {
   "cell_type": "code",
   "execution_count": 26,
   "metadata": {},
   "outputs": [
    {
     "name": "stdout",
     "output_type": "stream",
     "text": [
      "16/16 [==============================] - 19s 1s/step - loss: 18027.9434 - accuracy: 0.0000e+00 - mean_squared_error: 18027.9434\n",
      "\n",
      "MSE: 18027.94\n"
     ]
    }
   ],
   "source": [
    "results_og = model_og.evaluate(test_x, test_y)\n",
    "print(\"\\nMSE: %.2f\" % (results_og[2]))"
   ]
  },
  {
   "cell_type": "code",
   "execution_count": 15,
   "metadata": {},
   "outputs": [
    {
     "name": "stdout",
     "output_type": "stream",
     "text": [
      "Epoch 1/5\n",
      "32/32 [==============================] - 139s 4s/step - loss: 17367.4844 - mean_squared_error: 17367.4844 - val_loss: 18284.7207 - val_mean_squared_error: 18284.7207\n",
      "Epoch 2/5\n",
      "32/32 [==============================] - 146s 5s/step - loss: 17367.4824 - mean_squared_error: 17367.4824 - val_loss: 18284.7207 - val_mean_squared_error: 18284.7207\n",
      "Epoch 3/5\n",
      "32/32 [==============================] - 145s 5s/step - loss: 17367.4844 - mean_squared_error: 17367.4844 - val_loss: 18284.7207 - val_mean_squared_error: 18284.7207\n",
      "Epoch 4/5\n",
      "32/32 [==============================] - 154s 5s/step - loss: 17367.4844 - mean_squared_error: 17367.4844 - val_loss: 18284.7207 - val_mean_squared_error: 18284.7207\n",
      "Epoch 5/5\n",
      "32/32 [==============================] - 147s 5s/step - loss: 17367.4844 - mean_squared_error: 17367.4844 - val_loss: 18284.7207 - val_mean_squared_error: 18284.7207\n"
     ]
    },
    {
     "data": {
      "image/png": "[encoded data removed]",
      "text/plain": [
       "<Figure size 432x288 with 1 Axes>"
      ]
     },
     "metadata": {
      "needs_background": "light"
     },
     "output_type": "display_data"
    }
   ],
   "source": [
    "from matplotlib import pyplot as plt\n",
    "history = model.fit(train_x, train_y, validation_data=(test_x, test_y), epochs=5)\n",
    "plt.plot(history.history['mean_squared_error'])\n",
    "plt.plot(history.history['val_mean_squared_error'])\n",
    "plt.title('model mse')\n",
    "plt.ylabel('mse')\n",
    "plt.xlabel('epoch')\n",
    "plt.legend(['train', 'test'], loc='upper left')\n",
    "plt.show()"
   ]
  },
  {
   "cell_type": "code",
   "execution_count": 9,
   "metadata": {},
   "outputs": [
    {
     "name": "stdout",
     "output_type": "stream",
     "text": [
      "Epoch 1/5\n",
      "32/32 [==============================] - 945s 30s/step - loss: 17117.6953 - accuracy: 0.0000e+00 - mean_squared_error: 17117.6953 - val_loss: 18027.9434 - val_accuracy: 0.0000e+00 - val_mean_squared_error: 18027.9434\n",
      "Epoch 2/5\n",
      "32/32 [==============================] - 2248s 70s/step - loss: 17117.6953 - accuracy: 0.0000e+00 - mean_squared_error: 17117.6953 - val_loss: 18027.9434 - val_accuracy: 0.0000e+00 - val_mean_squared_error: 18027.9434\n",
      "Epoch 3/5\n",
      "32/32 [==============================] - 981s 31s/step - loss: 17117.6953 - accuracy: 0.0000e+00 - mean_squared_error: 17117.6953 - val_loss: 18027.9434 - val_accuracy: 0.0000e+00 - val_mean_squared_error: 18027.9434\n",
      "Epoch 4/5\n",
      "32/32 [==============================] - 1190s 37s/step - loss: 17117.6953 - accuracy: 0.0000e+00 - mean_squared_error: 17117.6953 - val_loss: 18027.9434 - val_accuracy: 0.0000e+00 - val_mean_squared_error: 18027.9434\n",
      "Epoch 5/5\n",
      "32/32 [==============================] - 973s 30s/step - loss: 17117.6953 - accuracy: 0.0000e+00 - mean_squared_error: 17117.6953 - val_loss: 18027.9434 - val_accuracy: 0.0000e+00 - val_mean_squared_error: 18027.9434\n"
     ]
    },
    {
     "data": {
      "image/png": "[encoded data removed]",
      "text/plain": [
       "<Figure size 432x288 with 1 Axes>"
      ]
     },
     "metadata": {
      "needs_background": "light"
     },
     "output_type": "display_data"
    }
   ],
   "source": [
    "from matplotlib import pyplot as plt\n",
    "history = model_og.fit(train_x, train_y, validation_data=(test_x, test_y), epochs=5)\n",
    "plt.plot(history.history['mean_squared_error'])\n",
    "plt.plot(history.history['val_mean_squared_error'])\n",
    "plt.title('model mse')\n",
    "plt.ylabel('mse')\n",
    "plt.xlabel('epoch')\n",
    "plt.legend(['train', 'test'], loc='upper left')\n",
    "plt.show()"
   ]
  },
  {
   "cell_type": "markdown",
   "metadata": {},
   "source": [
    "## Hallazgos y conclusiones entrega #2"
   ]
  },
  {
   "cell_type": "markdown",
   "metadata": {},
   "source": [
    "Para esta primera entrega nos enfocamos en comprender el dataset y planear como lo ibamos a manegar e interpretar para sacar resultados, al final decimos crear unas redes neuronales que comprendiar el dataset, para esto nos inspiramos en otras redes neuronales en internet que hacian cosas parecidas, pero a partir de este paso empezamos a tener algunas complicaciones que se detallaran en breve. \n",
    "\n",
    "Cuando pusimos a correr los modelos con los datos ya entrenados y testeados pero se obtuvieron resultados mixtos, ya que muchas complicaciones se nos presentaron, por ejemplo el dataset que se uso era muy pesado lo que provoco que la mayoria de las computdoras del grupo no pudieran prosesarlo a la hora de correr el modelo, por lo que intentamos usar una menor cantidad de datos para hacerlo mas ligero pero esto tambien nos dio malos resultados porque el accuracy que nos devolvia era de 0.00% ya que la cantidad de datos no era suficiente para poder tener mas acurracy, por lo que tampoco pudimos quedarnos con estos resultados, al final lo que se tuvo que hacer fue tomar una computadora mas potente la cual si pudo procesarlo aunque igual hay que recalcar que le llevo 10 minutos hacerlo.\n",
    "\n",
    "Después intentamos usar una red neuronal más simple la cual saco resultados parecidos a la compleja, por lo que para el resto del proyecto estaremos usando esta, de igual manera para tener mejores resultados seria mejor usar la compleja pero tomar en cuanta que esto solo si se tiene una computadora con un nivel alto de procesamiento."
   ]
  },
  {
   "cell_type": "markdown",
   "metadata": {},
   "source": [
    "## Referencias\n",
    "1. Gilsanz, V. y Ratib, O. (2005). _Hand Bone Age_. Berlín: Springer.\n",
    "2. Dallora, A. L., Anderberg, P., Kvist, O., Mendes, E., Diaz Ruiz, S. y Berglund, J. S. (2019). Bone age assessment with various machine learning techniques: A systematic literature review and meta-analysis. _PLoS ONE_, 14(7): e0220242. Disponible en: https://doi.org/10.1371/journal.pone.0220242\n",
    "3. Husseini, H., Spronk, T., Masanneck, L. y Gutewort, L. (2019). Bone age prediction through x-ray images. _Medium_. Recuperado de https://medium.com/techlabsms/bone-age-prediction-through-x-ray-images-6e181d900a7a\n",
    "4. Navarro, M. M., Tejedor, B. M. y López Siguero, J. P. (2014) “El uso de la edad ósea en la práctica clínica”, _Anales de Pediatría Continuada_, 12(6), pp. 275–283. doi: 10.1016/s1696-2818(14)70204-5. Disponible en: https://www.elsevier.es/es-revista-anales-pediatria-continuada-51-articulo-el-uso-edad-osea-practica-S1696281814702045"
   ]
  }
 ],
 "metadata": {
  "kernelspec": {
   "display_name": "Python 3",
   "language": "python",
   "name": "python3"
  },
  "language_info": {
   "codemirror_mode": {
    "name": "ipython",
    "version": 3
   },
   "file_extension": ".py",
   "mimetype": "text/x-python",
   "name": "python",
   "nbconvert_exporter": "python",
   "pygments_lexer": "ipython3",
   "version": "3.7.3"
  }
 },
 "nbformat": 4,
 "nbformat_minor": 4
}
